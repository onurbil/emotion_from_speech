{
  "nbformat": 4,
  "nbformat_minor": 0,
  "metadata": {
    "colab": {
      "name": "Test your Emotion from Speech.ipynb",
      "private_outputs": true,
      "provenance": [],
      "collapsed_sections": [
        "YHxUZWqils8I",
        "ScEZ6VO-rQTC",
        "oSMaat8-rWlw",
        "Pmj6ggN-rZa-",
        "uMQhKAGsrdmx",
        "I-4QO2fKzzvU"
      ],
      "toc_visible": true
    },
    "kernelspec": {
      "display_name": "Python 3",
      "language": "python",
      "name": "python3"
    },
    "language_info": {
      "codemirror_mode": {
        "name": "ipython",
        "version": 3
      },
      "file_extension": ".py",
      "mimetype": "text/x-python",
      "name": "python",
      "nbconvert_exporter": "python",
      "pygments_lexer": "ipython3",
      "version": "3.8.5"
    },
    "accelerator": "GPU"
  },
  "cells": [
    {
      "cell_type": "markdown",
      "metadata": {
        "id": "YHxUZWqils8I"
      },
      "source": [
        "#Section 1. Pulling all the necessary libraries and the repository to colab files\n",
        "\n",
        "---"
      ]
    },
    {
      "cell_type": "markdown",
      "metadata": {
        "id": "ScEZ6VO-rQTC"
      },
      "source": [
        "### 1.1 Installing and importing libraries"
      ]
    },
    {
      "cell_type": "code",
      "metadata": {
        "id": "_rg74Hsc2qnP"
      },
      "source": [
        "! pip install torch\n",
        "! pip install ffmpeg-python\n",
        "! pip install pydub\n",
        "\n",
        "import sys\n",
        "import torch\n",
        "import matplotlib.pyplot as plt\n",
        "import numpy as np\n",
        "import os\n",
        "from torchsummary import summary\n",
        "from sklearn.preprocessing import LabelEncoder"
      ],
      "execution_count": null,
      "outputs": []
    },
    {
      "cell_type": "markdown",
      "metadata": {
        "id": "oSMaat8-rWlw"
      },
      "source": [
        " ### 1.2 Clone github repository\n",
        "\n",
        "  - The repository can be found in: [Emotion from speech](https://github.com/onurbil/emotion_from_speech). There you will also find the code and other notebooks on traning and preparing the dataset.\n",
        "  - The dataset used for training can be found in [Audio emotions](https://www.kaggle.com/uldisvalainis/audio-emotions).\n",
        " "
      ]
    },
    {
      "cell_type": "code",
      "metadata": {
        "id": "KA6Ej0xOjzbu"
      },
      "source": [
        "%cd /content\n",
        "!git clone -l -s https://github.com/onurbil/emotion_from_speech.git emotion_from_speech\n",
        "%cd emotion_from_speech\n",
        "!ls\n",
        "%cd .."
      ],
      "execution_count": null,
      "outputs": []
    },
    {
      "cell_type": "markdown",
      "metadata": {
        "id": "Pmj6ggN-rZa-"
      },
      "source": [
        "### 1.3 Appending repository to system path"
      ]
    },
    {
      "cell_type": "code",
      "metadata": {
        "id": "P-sOuE5dqP6c"
      },
      "source": [
        "# Defining the names and variables\n",
        "REPO_PATH = '/content/emotion_from_speech'\n",
        "models_path = []\n",
        "Classes = [\"Angry\", \"Disgusted\", \"Fearful\", \"Happy\", \"Neutral\", \"Sad\", \"Surprised\"]\n",
        "audio_name = 'recording'\n",
        "dataset_path = os.path.join(REPO_PATH, audio_name + '.npy')\n",
        "model_path = os.path.join(REPO_PATH,'trained_model')\n",
        "# Appending all the paths of the models\n",
        "models_path.append([os.path.join(model_path,'GRU_model_71_3973'), 'GRU 1'])\n",
        "models_path.append([os.path.join(model_path,'GRU_model_73_0390'), 'GRU 2'])\n",
        "models_path.append([os.path.join(model_path,'LSTMmodel_69_3543'), 'LSTM 1'])\n",
        "models_path.append([os.path.join(model_path,'LSTMmodel_73_0026'), 'LSTM 2'])\n",
        "\n",
        "sys.path.append(REPO_PATH)\n",
        "print(sys.path)\n",
        "\n",
        "from record_audio import save_audio\n",
        "from training import load_dataset\n",
        "from models import Ensemble"
      ],
      "execution_count": null,
      "outputs": []
    },
    {
      "cell_type": "markdown",
      "metadata": {
        "id": "uMQhKAGsrdmx"
      },
      "source": [
        "### 1.4 Preparing torch to run on the device"
      ]
    },
    {
      "cell_type": "code",
      "metadata": {
        "id": "BoDLTKpc2aTA"
      },
      "source": [
        "# Preparing the device\n",
        "if torch.cuda.is_available():\n",
        "    device = torch.cuda.current_device()\n",
        "    print('Current device:', torch.cuda.get_device_name(device))\n",
        "else:\n",
        "    print('Failed to find GPU. Will use CPU.')\n",
        "    device = 'cpu'"
      ],
      "execution_count": null,
      "outputs": []
    },
    {
      "cell_type": "markdown",
      "metadata": {
        "id": "I-4QO2fKzzvU"
      },
      "source": [
        "### 1.5 Loading Models\n"
      ]
    },
    {
      "cell_type": "code",
      "metadata": {
        "id": "0ERrgFarz5M1"
      },
      "source": [
        "# Creating emsemble of models\n",
        "models = []\n",
        "for path, name in models_path:    \n",
        "  model = torch.load(path, map_location=torch.device(device))\n",
        "  models.append([model, name])\n",
        "\n",
        "Ensemble = Ensemble([model for model, name in models])"
      ],
      "execution_count": null,
      "outputs": []
    },
    {
      "cell_type": "markdown",
      "metadata": {
        "id": "89qD6H5Vc0ot"
      },
      "source": [
        "# Recording Audio\n",
        "\n",
        "Here you can record your audio to have your emotion predicted.\n",
        "\n",
        "***The audio to be recorded is only a 2 seconds audio and it is saved in your colab folder as an .wav file, and is has its features preprocessed as a .npy file***\n",
        "\n",
        "- First you click to run the cell below(you might need to give your browser permission to use your microfone), and then you will see a button saying \"Press to start recording\". Whenever you are ready click that button to start your 2 seconds recording.\n",
        "\n",
        "    ![image.png](data:image/png;base64,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)\n",
        "\n",
        "- After it finishes recording you will see a player like the one in the picture below, you can then hear your audio.\n",
        "\n",
        "    ![image.png](data:image/png;base64,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)\n",
        "\n",
        "\n",
        "\n"
      ]
    },
    {
      "cell_type": "code",
      "metadata": {
        "id": "3sA2WhjHalSR"
      },
      "source": [
        "save_audio(REPO_PATH, name = audio_name)"
      ],
      "execution_count": null,
      "outputs": []
    },
    {
      "cell_type": "markdown",
      "metadata": {
        "id": "FZfDzOzBc3Yf"
      },
      "source": [
        "#Emotion prediction\n",
        "\n",
        "Here is where the magic happens. It will use the trained model that was retrieved from the github account to predict your emotion.\n",
        "\n",
        "The emotions that the model was trained are:\n",
        "- Angry\n",
        "- Disgusted\n",
        "- Fearful\n",
        "- Happy\n",
        "- Neutral\n",
        "- Sad\n",
        "- Surprised"
      ]
    },
    {
      "cell_type": "code",
      "metadata": {
        "id": "0Ht16Kr1ra9_"
      },
      "source": [
        "# Loading recorded audo\n",
        "data_list = np.load(dataset_path, allow_pickle=True)\n",
        "train_loader, _, _, _, _ = load_dataset(dataset_path, 1, shuffle_dataset=False)\n",
        "\n",
        "dataiter = iter(train_loader)\n",
        "record, labels = dataiter.next()\n",
        "\n",
        "# Testing the recorded audio with each individual model\n",
        "for model, name in models:\n",
        "  model = model.to(device)\n",
        "  model.eval()\n",
        "  record = record.to(device)\n",
        "  y_valid_pred = model(record)\n",
        "  _, y_valid_pred = torch.max(y_valid_pred.data, 1)\n",
        "  \n",
        "  print('\\nPredicted emotion for model', name, ': ', Classes[y_valid_pred.data.cpu().numpy()[0]])\n",
        "\n",
        "# Testing the recorded audio with the ensemble\n",
        "model = Ensemble.to(device)\n",
        "model.eval()\n",
        "record = record.to(device)\n",
        "y_valid_pred = model(record)\n",
        "_, y_valid_pred = torch.max(y_valid_pred.data, 1)\n",
        "\n",
        "print('\\nPredicted emotion for ensemble: ', Classes[y_valid_pred.data.cpu().numpy()[0]])"
      ],
      "execution_count": null,
      "outputs": []
    }
  ]
}